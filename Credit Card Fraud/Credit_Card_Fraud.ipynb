{
  "cells": [
    {
      "cell_type": "markdown",
      "source": [
        "# **Regarding the Dataset**\n",
        "The dataset contains transactions made by credit cards by European cardholders.\n",
        "\n",
        "This dataset presents transactions that occurred in two days, where we have **492 frauds out of 284,807 transactions**. The dataset is highly unbalanced, the positive class (frauds) account for 0.172% of all transactions.\n",
        "\n",
        "It contains only numerical input variables which are the result of a PCA transformation. Unfortunately, due to confidentiality issues, we cannot provide the original features and more background information about the data. Features V1, V2, … V28 are the principal components obtained with PCA, the only features which have not been transformed with PCA are 'Time' and 'Amount'. Feature 'Time' contains the seconds elapsed between each transaction and the first transaction in the dataset. The feature 'Amount' is the transaction Amount, this feature can be used for example-dependant cost-sensitive learning. Feature 'Class' is the response variable and it takes value 1 in case of fraud and 0 otherwise.\n",
        "\n",
        "\n"
      ],
      "metadata": {
        "id": "-w9Lj5v2AfgP"
      },
      "id": "-w9Lj5v2AfgP"
    },
    {
      "cell_type": "markdown",
      "source": [
        "### Introduction\n",
        "We will use predictive models to see how accurate they are in detecting whether a transaction is a normal payment or a fraud. As described in the dataset, the features are scaled and the names of the features are not shown due to privacy reasons. Nevertheless, we can still analyze some important aspects of the dataset"
      ],
      "metadata": {
        "id": "FpKkntW7BGBY"
      },
      "id": "FpKkntW7BGBY"
    },
    {
      "cell_type": "markdown",
      "source": [
        "**AIM**\n",
        "\n",
        "\n",
        "*   Understand the little distribution of the \"little\" data that was provided to us.\n",
        "*   Create a 50/50 sub-dataframe ratio of \"Fraud\" and \"Non-Fraud\" transactions\n",
        "\n",
        "*   Determine the Classifiers we are going to use and decide which one has a higher accuracy\n",
        "\n",
        "\n",
        "\n",
        "\n"
      ],
      "metadata": {
        "id": "oPdU_ZAxCUqj"
      },
      "id": "oPdU_ZAxCUqj"
    },
    {
      "cell_type": "code",
      "execution_count": null,
      "id": "d232e3cf",
      "metadata": {
        "id": "d232e3cf"
      },
      "outputs": [],
      "source": [
        "#Import all libraries\n",
        "import numpy as np\n",
        "import pandas as pd\n",
        "import seaborn as sns\n",
        "import matplotlib.pyplot as plt\n",
        "from sklearn.model_selection import train_test_split\n",
        "from sklearn.preprocessing import StandardScaler\n",
        "from sklearn.linear_model import LogisticRegression\n",
        "from sklearn.metrics import accuracy_score\n",
        "from sklearn.metrics import f1_score"
      ]
    },
    {
      "cell_type": "code",
      "execution_count": null,
      "id": "a4d479d7",
      "metadata": {
        "id": "a4d479d7",
        "outputId": "d577e54c-f95f-4e81-8ffc-a9d0558e6b3c"
      },
      "outputs": [
        {
          "name": "stdout",
          "output_type": "stream",
          "text": [
            "Collecting imbalanced-learn\n",
            "  Downloading imbalanced_learn-0.10.0-py3-none-any.whl (225 kB)\n",
            "     ------------------------------------ 225.4/225.4 kB 982.3 kB/s eta 0:00:00\n",
            "Requirement already satisfied: numpy>=1.17.3 in c:\\users\\user13\\anaconda3\\lib\\site-packages (from imbalanced-learn) (1.21.5)\n",
            "Collecting joblib>=1.1.1\n",
            "  Downloading joblib-1.2.0-py3-none-any.whl (297 kB)\n",
            "     -------------------------------------- 298.0/298.0 kB 2.6 MB/s eta 0:00:00\n",
            "Requirement already satisfied: scikit-learn>=1.0.2 in c:\\users\\user13\\anaconda3\\lib\\site-packages (from imbalanced-learn) (1.0.2)\n",
            "Requirement already satisfied: threadpoolctl>=2.0.0 in c:\\users\\user13\\anaconda3\\lib\\site-packages (from imbalanced-learn) (2.2.0)\n",
            "Requirement already satisfied: scipy>=1.3.2 in c:\\users\\user13\\anaconda3\\lib\\site-packages (from imbalanced-learn) (1.9.1)\n",
            "Installing collected packages: joblib, imbalanced-learn\n",
            "  Attempting uninstall: joblib\n",
            "    Found existing installation: joblib 1.1.0\n",
            "    Uninstalling joblib-1.1.0:\n",
            "      Successfully uninstalled joblib-1.1.0\n",
            "Successfully installed imbalanced-learn-0.10.0 joblib-1.2.0\n",
            "Note: you may need to restart the kernel to use updated packages.\n"
          ]
        }
      ],
      "source": [
        "pip install imbalanced-learn"
      ]
    },
    {
      "cell_type": "code",
      "execution_count": null,
      "id": "b8cadd22",
      "metadata": {
        "id": "b8cadd22"
      },
      "outputs": [],
      "source": [
        "# Load the data to pandas Dataframe\n",
        "credit_data = pd.read_csv('creditcard.csv')"
      ]
    },
    {
      "cell_type": "code",
      "execution_count": null,
      "id": "a5e15e9a",
      "metadata": {
        "id": "a5e15e9a",
        "outputId": "87d4aabe-5624-4ab8-95c6-afe61cd1616d"
      },
      "outputs": [
        {
          "data": {
            "text/html": [
              "<div>\n",
              "<style scoped>\n",
              "    .dataframe tbody tr th:only-of-type {\n",
              "        vertical-align: middle;\n",
              "    }\n",
              "\n",
              "    .dataframe tbody tr th {\n",
              "        vertical-align: top;\n",
              "    }\n",
              "\n",
              "    .dataframe thead th {\n",
              "        text-align: right;\n",
              "    }\n",
              "</style>\n",
              "<table border=\"1\" class=\"dataframe\">\n",
              "  <thead>\n",
              "    <tr style=\"text-align: right;\">\n",
              "      <th></th>\n",
              "      <th>Time</th>\n",
              "      <th>V1</th>\n",
              "      <th>V2</th>\n",
              "      <th>V3</th>\n",
              "      <th>V4</th>\n",
              "      <th>V5</th>\n",
              "      <th>V6</th>\n",
              "      <th>V7</th>\n",
              "      <th>V8</th>\n",
              "      <th>V9</th>\n",
              "      <th>...</th>\n",
              "      <th>V21</th>\n",
              "      <th>V22</th>\n",
              "      <th>V23</th>\n",
              "      <th>V24</th>\n",
              "      <th>V25</th>\n",
              "      <th>V26</th>\n",
              "      <th>V27</th>\n",
              "      <th>V28</th>\n",
              "      <th>Amount</th>\n",
              "      <th>Class</th>\n",
              "    </tr>\n",
              "  </thead>\n",
              "  <tbody>\n",
              "    <tr>\n",
              "      <th>0</th>\n",
              "      <td>0.0</td>\n",
              "      <td>-1.359807</td>\n",
              "      <td>-0.072781</td>\n",
              "      <td>2.536347</td>\n",
              "      <td>1.378155</td>\n",
              "      <td>-0.338321</td>\n",
              "      <td>0.462388</td>\n",
              "      <td>0.239599</td>\n",
              "      <td>0.098698</td>\n",
              "      <td>0.363787</td>\n",
              "      <td>...</td>\n",
              "      <td>-0.018307</td>\n",
              "      <td>0.277838</td>\n",
              "      <td>-0.110474</td>\n",
              "      <td>0.066928</td>\n",
              "      <td>0.128539</td>\n",
              "      <td>-0.189115</td>\n",
              "      <td>0.133558</td>\n",
              "      <td>-0.021053</td>\n",
              "      <td>149.62</td>\n",
              "      <td>0</td>\n",
              "    </tr>\n",
              "    <tr>\n",
              "      <th>1</th>\n",
              "      <td>0.0</td>\n",
              "      <td>1.191857</td>\n",
              "      <td>0.266151</td>\n",
              "      <td>0.166480</td>\n",
              "      <td>0.448154</td>\n",
              "      <td>0.060018</td>\n",
              "      <td>-0.082361</td>\n",
              "      <td>-0.078803</td>\n",
              "      <td>0.085102</td>\n",
              "      <td>-0.255425</td>\n",
              "      <td>...</td>\n",
              "      <td>-0.225775</td>\n",
              "      <td>-0.638672</td>\n",
              "      <td>0.101288</td>\n",
              "      <td>-0.339846</td>\n",
              "      <td>0.167170</td>\n",
              "      <td>0.125895</td>\n",
              "      <td>-0.008983</td>\n",
              "      <td>0.014724</td>\n",
              "      <td>2.69</td>\n",
              "      <td>0</td>\n",
              "    </tr>\n",
              "    <tr>\n",
              "      <th>2</th>\n",
              "      <td>1.0</td>\n",
              "      <td>-1.358354</td>\n",
              "      <td>-1.340163</td>\n",
              "      <td>1.773209</td>\n",
              "      <td>0.379780</td>\n",
              "      <td>-0.503198</td>\n",
              "      <td>1.800499</td>\n",
              "      <td>0.791461</td>\n",
              "      <td>0.247676</td>\n",
              "      <td>-1.514654</td>\n",
              "      <td>...</td>\n",
              "      <td>0.247998</td>\n",
              "      <td>0.771679</td>\n",
              "      <td>0.909412</td>\n",
              "      <td>-0.689281</td>\n",
              "      <td>-0.327642</td>\n",
              "      <td>-0.139097</td>\n",
              "      <td>-0.055353</td>\n",
              "      <td>-0.059752</td>\n",
              "      <td>378.66</td>\n",
              "      <td>0</td>\n",
              "    </tr>\n",
              "    <tr>\n",
              "      <th>3</th>\n",
              "      <td>1.0</td>\n",
              "      <td>-0.966272</td>\n",
              "      <td>-0.185226</td>\n",
              "      <td>1.792993</td>\n",
              "      <td>-0.863291</td>\n",
              "      <td>-0.010309</td>\n",
              "      <td>1.247203</td>\n",
              "      <td>0.237609</td>\n",
              "      <td>0.377436</td>\n",
              "      <td>-1.387024</td>\n",
              "      <td>...</td>\n",
              "      <td>-0.108300</td>\n",
              "      <td>0.005274</td>\n",
              "      <td>-0.190321</td>\n",
              "      <td>-1.175575</td>\n",
              "      <td>0.647376</td>\n",
              "      <td>-0.221929</td>\n",
              "      <td>0.062723</td>\n",
              "      <td>0.061458</td>\n",
              "      <td>123.50</td>\n",
              "      <td>0</td>\n",
              "    </tr>\n",
              "    <tr>\n",
              "      <th>4</th>\n",
              "      <td>2.0</td>\n",
              "      <td>-1.158233</td>\n",
              "      <td>0.877737</td>\n",
              "      <td>1.548718</td>\n",
              "      <td>0.403034</td>\n",
              "      <td>-0.407193</td>\n",
              "      <td>0.095921</td>\n",
              "      <td>0.592941</td>\n",
              "      <td>-0.270533</td>\n",
              "      <td>0.817739</td>\n",
              "      <td>...</td>\n",
              "      <td>-0.009431</td>\n",
              "      <td>0.798278</td>\n",
              "      <td>-0.137458</td>\n",
              "      <td>0.141267</td>\n",
              "      <td>-0.206010</td>\n",
              "      <td>0.502292</td>\n",
              "      <td>0.219422</td>\n",
              "      <td>0.215153</td>\n",
              "      <td>69.99</td>\n",
              "      <td>0</td>\n",
              "    </tr>\n",
              "  </tbody>\n",
              "</table>\n",
              "<p>5 rows × 31 columns</p>\n",
              "</div>"
            ],
            "text/plain": [
              "   Time        V1        V2        V3        V4        V5        V6        V7  \\\n",
              "0   0.0 -1.359807 -0.072781  2.536347  1.378155 -0.338321  0.462388  0.239599   \n",
              "1   0.0  1.191857  0.266151  0.166480  0.448154  0.060018 -0.082361 -0.078803   \n",
              "2   1.0 -1.358354 -1.340163  1.773209  0.379780 -0.503198  1.800499  0.791461   \n",
              "3   1.0 -0.966272 -0.185226  1.792993 -0.863291 -0.010309  1.247203  0.237609   \n",
              "4   2.0 -1.158233  0.877737  1.548718  0.403034 -0.407193  0.095921  0.592941   \n",
              "\n",
              "         V8        V9  ...       V21       V22       V23       V24       V25  \\\n",
              "0  0.098698  0.363787  ... -0.018307  0.277838 -0.110474  0.066928  0.128539   \n",
              "1  0.085102 -0.255425  ... -0.225775 -0.638672  0.101288 -0.339846  0.167170   \n",
              "2  0.247676 -1.514654  ...  0.247998  0.771679  0.909412 -0.689281 -0.327642   \n",
              "3  0.377436 -1.387024  ... -0.108300  0.005274 -0.190321 -1.175575  0.647376   \n",
              "4 -0.270533  0.817739  ... -0.009431  0.798278 -0.137458  0.141267 -0.206010   \n",
              "\n",
              "        V26       V27       V28  Amount  Class  \n",
              "0 -0.189115  0.133558 -0.021053  149.62      0  \n",
              "1  0.125895 -0.008983  0.014724    2.69      0  \n",
              "2 -0.139097 -0.055353 -0.059752  378.66      0  \n",
              "3 -0.221929  0.062723  0.061458  123.50      0  \n",
              "4  0.502292  0.219422  0.215153   69.99      0  \n",
              "\n",
              "[5 rows x 31 columns]"
            ]
          },
          "execution_count": 3,
          "metadata": {},
          "output_type": "execute_result"
        }
      ],
      "source": [
        "credit_data.head()"
      ]
    },
    {
      "cell_type": "code",
      "execution_count": null,
      "id": "7e4f8a40",
      "metadata": {
        "id": "7e4f8a40",
        "outputId": "6a89bace-8512-400d-9286-aa891e029aab"
      },
      "outputs": [
        {
          "name": "stdout",
          "output_type": "stream",
          "text": [
            "<class 'pandas.core.frame.DataFrame'>\n",
            "RangeIndex: 284807 entries, 0 to 284806\n",
            "Data columns (total 31 columns):\n",
            " #   Column  Non-Null Count   Dtype  \n",
            "---  ------  --------------   -----  \n",
            " 0   Time    284807 non-null  float64\n",
            " 1   V1      284807 non-null  float64\n",
            " 2   V2      284807 non-null  float64\n",
            " 3   V3      284807 non-null  float64\n",
            " 4   V4      284807 non-null  float64\n",
            " 5   V5      284807 non-null  float64\n",
            " 6   V6      284807 non-null  float64\n",
            " 7   V7      284807 non-null  float64\n",
            " 8   V8      284807 non-null  float64\n",
            " 9   V9      284807 non-null  float64\n",
            " 10  V10     284807 non-null  float64\n",
            " 11  V11     284807 non-null  float64\n",
            " 12  V12     284807 non-null  float64\n",
            " 13  V13     284807 non-null  float64\n",
            " 14  V14     284807 non-null  float64\n",
            " 15  V15     284807 non-null  float64\n",
            " 16  V16     284807 non-null  float64\n",
            " 17  V17     284807 non-null  float64\n",
            " 18  V18     284807 non-null  float64\n",
            " 19  V19     284807 non-null  float64\n",
            " 20  V20     284807 non-null  float64\n",
            " 21  V21     284807 non-null  float64\n",
            " 22  V22     284807 non-null  float64\n",
            " 23  V23     284807 non-null  float64\n",
            " 24  V24     284807 non-null  float64\n",
            " 25  V25     284807 non-null  float64\n",
            " 26  V26     284807 non-null  float64\n",
            " 27  V27     284807 non-null  float64\n",
            " 28  V28     284807 non-null  float64\n",
            " 29  Amount  284807 non-null  float64\n",
            " 30  Class   284807 non-null  int64  \n",
            "dtypes: float64(30), int64(1)\n",
            "memory usage: 67.4 MB\n"
          ]
        }
      ],
      "source": [
        "#Information\n",
        "credit_data.info()"
      ]
    },
    {
      "cell_type": "code",
      "execution_count": null,
      "id": "0ec8dcaf",
      "metadata": {
        "id": "0ec8dcaf",
        "outputId": "b0679d29-19e1-4933-825d-514c54de4f5b"
      },
      "outputs": [
        {
          "data": {
            "text/plain": [
              "Time      0\n",
              "V1        0\n",
              "V2        0\n",
              "V3        0\n",
              "V4        0\n",
              "V5        0\n",
              "V6        0\n",
              "V7        0\n",
              "V8        0\n",
              "V9        0\n",
              "V10       0\n",
              "V11       0\n",
              "V12       0\n",
              "V13       0\n",
              "V14       0\n",
              "V15       0\n",
              "V16       0\n",
              "V17       0\n",
              "V18       0\n",
              "V19       0\n",
              "V20       0\n",
              "V21       0\n",
              "V22       0\n",
              "V23       0\n",
              "V24       0\n",
              "V25       0\n",
              "V26       0\n",
              "V27       0\n",
              "V28       0\n",
              "Amount    0\n",
              "Class     0\n",
              "dtype: int64"
            ]
          },
          "execution_count": 5,
          "metadata": {},
          "output_type": "execute_result"
        }
      ],
      "source": [
        "#Check for null values in columns\n",
        "credit_data.isnull().sum()"
      ]
    },
    {
      "cell_type": "code",
      "execution_count": null,
      "id": "c8e37c09",
      "metadata": {
        "id": "c8e37c09",
        "outputId": "cce41a07-a9b1-4c49-ad6a-996ac97e23b0"
      },
      "outputs": [
        {
          "data": {
            "text/plain": [
              "0    284315\n",
              "1       492\n",
              "Name: Class, dtype: int64"
            ]
          },
          "execution_count": 6,
          "metadata": {},
          "output_type": "execute_result"
        }
      ],
      "source": [
        "# Check distribution of legit and fraudulent transaction [legit=0. Fraudulent =1]\n",
        "credit_data['Class'].value_counts()"
      ]
    },
    {
      "cell_type": "code",
      "execution_count": null,
      "id": "0a15e97f",
      "metadata": {
        "id": "0a15e97f",
        "outputId": "2740a332-5838-4e39-8ebf-9f4ba3706900"
      },
      "outputs": [
        {
          "data": {
            "text/plain": [
              "<AxesSubplot:xlabel='Class', ylabel='Amount'>"
            ]
          },
          "execution_count": 7,
          "metadata": {},
          "output_type": "execute_result"
        },
        {
          "data": {
            "image/png": "[encoded data removed]",
            "text/plain": [
              "<Figure size 640x480 with 1 Axes>"
            ]
          },
          "metadata": {},
          "output_type": "display_data"
        }
      ],
      "source": [
        "sns.scatterplot(x='Class', y='Amount', data=credit_data, hue='Class')"
      ]
    },
    {
      "cell_type": "markdown",
      "source": [
        "### **NOTE:**\n",
        "By seeing the distributions we can have an idea how skewed are these features, we can also see further distributions of the other features. There are techniques that can help the distributions be less skewed which will be implemented.\n",
        "\n",
        "***This data set is highly unbalanced.***\n",
        "\n",
        "*   0 Represents Legit Transactions\n",
        "*   1 Represents Fraud Transactions\n",
        "\n"
      ],
      "metadata": {
        "id": "586NDCHCDLAm"
      },
      "id": "586NDCHCDLAm"
    },
    {
      "cell_type": "code",
      "execution_count": null,
      "id": "b59f200f",
      "metadata": {
        "id": "b59f200f"
      },
      "outputs": [],
      "source": [
        "# Separating the data for analysis\n",
        "legit = credit_data[credit_data.Class==0]\n",
        "fraud = credit_data[credit_data.Class==1]"
      ]
    },
    {
      "cell_type": "code",
      "execution_count": null,
      "id": "f85db41e",
      "metadata": {
        "id": "f85db41e",
        "outputId": "199beff0-ce76-4fd3-939a-cc34b43c9d7e"
      },
      "outputs": [
        {
          "name": "stdout",
          "output_type": "stream",
          "text": [
            "(284315, 31)\n",
            "(492, 31)\n"
          ]
        }
      ],
      "source": [
        "print(legit.shape)\n",
        "print(fraud.shape)"
      ]
    },
    {
      "cell_type": "code",
      "execution_count": null,
      "id": "e98694c2",
      "metadata": {
        "id": "e98694c2",
        "outputId": "7a65797b-4366-4e5a-bdf2-31feb55e5a8d"
      },
      "outputs": [
        {
          "data": {
            "text/plain": [
              "count    284315.000000\n",
              "mean         88.291022\n",
              "std         250.105092\n",
              "min           0.000000\n",
              "25%           5.650000\n",
              "50%          22.000000\n",
              "75%          77.050000\n",
              "max       25691.160000\n",
              "Name: Amount, dtype: float64"
            ]
          },
          "execution_count": 10,
          "metadata": {},
          "output_type": "execute_result"
        }
      ],
      "source": [
        "legit.Amount.describe()"
      ]
    },
    {
      "cell_type": "code",
      "execution_count": null,
      "id": "715bd274",
      "metadata": {
        "id": "715bd274",
        "outputId": "193c0989-fd36-4c3c-fd69-8758aefc7193"
      },
      "outputs": [
        {
          "data": {
            "text/plain": [
              "count     492.000000\n",
              "mean      122.211321\n",
              "std       256.683288\n",
              "min         0.000000\n",
              "25%         1.000000\n",
              "50%         9.250000\n",
              "75%       105.890000\n",
              "max      2125.870000\n",
              "Name: Amount, dtype: float64"
            ]
          },
          "execution_count": 11,
          "metadata": {},
          "output_type": "execute_result"
        }
      ],
      "source": [
        "fraud.Amount.describe()"
      ]
    },
    {
      "cell_type": "code",
      "execution_count": null,
      "id": "233e76c5",
      "metadata": {
        "id": "233e76c5",
        "outputId": "8b724977-37ec-4a2d-d012-1f5bda9f9597"
      },
      "outputs": [
        {
          "data": {
            "text/html": [
              "<div>\n",
              "<style scoped>\n",
              "    .dataframe tbody tr th:only-of-type {\n",
              "        vertical-align: middle;\n",
              "    }\n",
              "\n",
              "    .dataframe tbody tr th {\n",
              "        vertical-align: top;\n",
              "    }\n",
              "\n",
              "    .dataframe thead th {\n",
              "        text-align: right;\n",
              "    }\n",
              "</style>\n",
              "<table border=\"1\" class=\"dataframe\">\n",
              "  <thead>\n",
              "    <tr style=\"text-align: right;\">\n",
              "      <th></th>\n",
              "      <th>Time</th>\n",
              "      <th>V1</th>\n",
              "      <th>V2</th>\n",
              "      <th>V3</th>\n",
              "      <th>V4</th>\n",
              "      <th>V5</th>\n",
              "      <th>V6</th>\n",
              "      <th>V7</th>\n",
              "      <th>V8</th>\n",
              "      <th>V9</th>\n",
              "      <th>...</th>\n",
              "      <th>V20</th>\n",
              "      <th>V21</th>\n",
              "      <th>V22</th>\n",
              "      <th>V23</th>\n",
              "      <th>V24</th>\n",
              "      <th>V25</th>\n",
              "      <th>V26</th>\n",
              "      <th>V27</th>\n",
              "      <th>V28</th>\n",
              "      <th>Amount</th>\n",
              "    </tr>\n",
              "    <tr>\n",
              "      <th>Class</th>\n",
              "      <th></th>\n",
              "      <th></th>\n",
              "      <th></th>\n",
              "      <th></th>\n",
              "      <th></th>\n",
              "      <th></th>\n",
              "      <th></th>\n",
              "      <th></th>\n",
              "      <th></th>\n",
              "      <th></th>\n",
              "      <th></th>\n",
              "      <th></th>\n",
              "      <th></th>\n",
              "      <th></th>\n",
              "      <th></th>\n",
              "      <th></th>\n",
              "      <th></th>\n",
              "      <th></th>\n",
              "      <th></th>\n",
              "      <th></th>\n",
              "      <th></th>\n",
              "    </tr>\n",
              "  </thead>\n",
              "  <tbody>\n",
              "    <tr>\n",
              "      <th>0</th>\n",
              "      <td>94838.202258</td>\n",
              "      <td>0.008258</td>\n",
              "      <td>-0.006271</td>\n",
              "      <td>0.012171</td>\n",
              "      <td>-0.007860</td>\n",
              "      <td>0.005453</td>\n",
              "      <td>0.002419</td>\n",
              "      <td>0.009637</td>\n",
              "      <td>-0.000987</td>\n",
              "      <td>0.004467</td>\n",
              "      <td>...</td>\n",
              "      <td>-0.000644</td>\n",
              "      <td>-0.001235</td>\n",
              "      <td>-0.000024</td>\n",
              "      <td>0.000070</td>\n",
              "      <td>0.000182</td>\n",
              "      <td>-0.000072</td>\n",
              "      <td>-0.000089</td>\n",
              "      <td>-0.000295</td>\n",
              "      <td>-0.000131</td>\n",
              "      <td>88.291022</td>\n",
              "    </tr>\n",
              "    <tr>\n",
              "      <th>1</th>\n",
              "      <td>80746.806911</td>\n",
              "      <td>-4.771948</td>\n",
              "      <td>3.623778</td>\n",
              "      <td>-7.033281</td>\n",
              "      <td>4.542029</td>\n",
              "      <td>-3.151225</td>\n",
              "      <td>-1.397737</td>\n",
              "      <td>-5.568731</td>\n",
              "      <td>0.570636</td>\n",
              "      <td>-2.581123</td>\n",
              "      <td>...</td>\n",
              "      <td>0.372319</td>\n",
              "      <td>0.713588</td>\n",
              "      <td>0.014049</td>\n",
              "      <td>-0.040308</td>\n",
              "      <td>-0.105130</td>\n",
              "      <td>0.041449</td>\n",
              "      <td>0.051648</td>\n",
              "      <td>0.170575</td>\n",
              "      <td>0.075667</td>\n",
              "      <td>122.211321</td>\n",
              "    </tr>\n",
              "  </tbody>\n",
              "</table>\n",
              "<p>2 rows × 30 columns</p>\n",
              "</div>"
            ],
            "text/plain": [
              "               Time        V1        V2        V3        V4        V5  \\\n",
              "Class                                                                   \n",
              "0      94838.202258  0.008258 -0.006271  0.012171 -0.007860  0.005453   \n",
              "1      80746.806911 -4.771948  3.623778 -7.033281  4.542029 -3.151225   \n",
              "\n",
              "             V6        V7        V8        V9  ...       V20       V21  \\\n",
              "Class                                          ...                       \n",
              "0      0.002419  0.009637 -0.000987  0.004467  ... -0.000644 -0.001235   \n",
              "1     -1.397737 -5.568731  0.570636 -2.581123  ...  0.372319  0.713588   \n",
              "\n",
              "            V22       V23       V24       V25       V26       V27       V28  \\\n",
              "Class                                                                         \n",
              "0     -0.000024  0.000070  0.000182 -0.000072 -0.000089 -0.000295 -0.000131   \n",
              "1      0.014049 -0.040308 -0.105130  0.041449  0.051648  0.170575  0.075667   \n",
              "\n",
              "           Amount  \n",
              "Class              \n",
              "0       88.291022  \n",
              "1      122.211321  \n",
              "\n",
              "[2 rows x 30 columns]"
            ]
          },
          "execution_count": 12,
          "metadata": {},
          "output_type": "execute_result"
        }
      ],
      "source": [
        "#Compare the values of both the transactions\n",
        "credit_data.groupby('Class').mean()"
      ]
    },
    {
      "cell_type": "markdown",
      "id": "a2b95eeb",
      "metadata": {
        "id": "a2b95eeb"
      },
      "source": [
        "#### Undersampling\n",
        "##### Build a sample dataset from original containing similar distrubution of legit and fraudulent transactions\n",
        "In this phase of the project we will implement Under Sampling which basically consists of removing data in order to have a more balanced dataset and thus avoiding our models to overfitting.\n",
        "##### Number of fraud transactions is 492\n",
        "\n",
        "**NOTE:**\n",
        "\n",
        "The main issue with Under-Sampling is that we run the risk that our classification models will not perform as accurate as we would like to since there is a great deal of information loss"
      ]
    },
    {
      "cell_type": "code",
      "execution_count": null,
      "id": "708ff793",
      "metadata": {
        "id": "708ff793"
      },
      "outputs": [],
      "source": [
        "legit_sample = legit.sample(n=492)"
      ]
    },
    {
      "cell_type": "markdown",
      "id": "4336b6f2",
      "metadata": {
        "id": "4336b6f2"
      },
      "source": [
        "### Concatnate the two dataframes "
      ]
    },
    {
      "cell_type": "code",
      "execution_count": null,
      "id": "3fc1eee9",
      "metadata": {
        "id": "3fc1eee9"
      },
      "outputs": [],
      "source": [
        "df = pd.concat([legit_sample, fraud], axis=0)"
      ]
    },
    {
      "cell_type": "code",
      "execution_count": null,
      "id": "938ed65a",
      "metadata": {
        "id": "938ed65a",
        "outputId": "811722c1-7702-477e-edb3-6f9952af5fa5"
      },
      "outputs": [
        {
          "data": {
            "text/html": [
              "<div>\n",
              "<style scoped>\n",
              "    .dataframe tbody tr th:only-of-type {\n",
              "        vertical-align: middle;\n",
              "    }\n",
              "\n",
              "    .dataframe tbody tr th {\n",
              "        vertical-align: top;\n",
              "    }\n",
              "\n",
              "    .dataframe thead th {\n",
              "        text-align: right;\n",
              "    }\n",
              "</style>\n",
              "<table border=\"1\" class=\"dataframe\">\n",
              "  <thead>\n",
              "    <tr style=\"text-align: right;\">\n",
              "      <th></th>\n",
              "      <th>Time</th>\n",
              "      <th>V1</th>\n",
              "      <th>V2</th>\n",
              "      <th>V3</th>\n",
              "      <th>V4</th>\n",
              "      <th>V5</th>\n",
              "      <th>V6</th>\n",
              "      <th>V7</th>\n",
              "      <th>V8</th>\n",
              "      <th>V9</th>\n",
              "      <th>...</th>\n",
              "      <th>V21</th>\n",
              "      <th>V22</th>\n",
              "      <th>V23</th>\n",
              "      <th>V24</th>\n",
              "      <th>V25</th>\n",
              "      <th>V26</th>\n",
              "      <th>V27</th>\n",
              "      <th>V28</th>\n",
              "      <th>Amount</th>\n",
              "      <th>Class</th>\n",
              "    </tr>\n",
              "  </thead>\n",
              "  <tbody>\n",
              "    <tr>\n",
              "      <th>245231</th>\n",
              "      <td>152657.0</td>\n",
              "      <td>-1.253285</td>\n",
              "      <td>-0.144553</td>\n",
              "      <td>0.827034</td>\n",
              "      <td>-1.068843</td>\n",
              "      <td>1.125701</td>\n",
              "      <td>-0.217599</td>\n",
              "      <td>0.773114</td>\n",
              "      <td>-0.019735</td>\n",
              "      <td>0.790356</td>\n",
              "      <td>...</td>\n",
              "      <td>0.263198</td>\n",
              "      <td>1.193921</td>\n",
              "      <td>-0.048873</td>\n",
              "      <td>0.554438</td>\n",
              "      <td>0.813305</td>\n",
              "      <td>-0.135395</td>\n",
              "      <td>0.049103</td>\n",
              "      <td>0.090436</td>\n",
              "      <td>33.80</td>\n",
              "      <td>0</td>\n",
              "    </tr>\n",
              "    <tr>\n",
              "      <th>180068</th>\n",
              "      <td>124362.0</td>\n",
              "      <td>0.088873</td>\n",
              "      <td>0.982903</td>\n",
              "      <td>-0.332166</td>\n",
              "      <td>-0.637170</td>\n",
              "      <td>0.939958</td>\n",
              "      <td>-0.501748</td>\n",
              "      <td>0.853777</td>\n",
              "      <td>0.056575</td>\n",
              "      <td>-0.310902</td>\n",
              "      <td>...</td>\n",
              "      <td>-0.277434</td>\n",
              "      <td>-0.679373</td>\n",
              "      <td>0.101874</td>\n",
              "      <td>0.600309</td>\n",
              "      <td>-0.484252</td>\n",
              "      <td>0.092501</td>\n",
              "      <td>0.222123</td>\n",
              "      <td>0.074667</td>\n",
              "      <td>1.78</td>\n",
              "      <td>0</td>\n",
              "    </tr>\n",
              "    <tr>\n",
              "      <th>223153</th>\n",
              "      <td>143266.0</td>\n",
              "      <td>-0.089616</td>\n",
              "      <td>0.431559</td>\n",
              "      <td>0.955739</td>\n",
              "      <td>-0.657907</td>\n",
              "      <td>0.472085</td>\n",
              "      <td>-0.051037</td>\n",
              "      <td>0.529771</td>\n",
              "      <td>-0.248989</td>\n",
              "      <td>0.724258</td>\n",
              "      <td>...</td>\n",
              "      <td>-0.145463</td>\n",
              "      <td>-0.162437</td>\n",
              "      <td>0.209309</td>\n",
              "      <td>0.583241</td>\n",
              "      <td>-0.603173</td>\n",
              "      <td>-0.771057</td>\n",
              "      <td>-0.330035</td>\n",
              "      <td>-0.195751</td>\n",
              "      <td>12.99</td>\n",
              "      <td>0</td>\n",
              "    </tr>\n",
              "    <tr>\n",
              "      <th>203641</th>\n",
              "      <td>134901.0</td>\n",
              "      <td>1.543755</td>\n",
              "      <td>-1.785569</td>\n",
              "      <td>0.171220</td>\n",
              "      <td>-0.427366</td>\n",
              "      <td>-1.611070</td>\n",
              "      <td>0.728810</td>\n",
              "      <td>-1.403413</td>\n",
              "      <td>0.453045</td>\n",
              "      <td>2.499307</td>\n",
              "      <td>...</td>\n",
              "      <td>0.284167</td>\n",
              "      <td>0.746918</td>\n",
              "      <td>0.068279</td>\n",
              "      <td>0.789708</td>\n",
              "      <td>-0.574000</td>\n",
              "      <td>0.680535</td>\n",
              "      <td>-0.021054</td>\n",
              "      <td>-0.011014</td>\n",
              "      <td>199.04</td>\n",
              "      <td>0</td>\n",
              "    </tr>\n",
              "    <tr>\n",
              "      <th>96034</th>\n",
              "      <td>65578.0</td>\n",
              "      <td>-3.448126</td>\n",
              "      <td>2.687171</td>\n",
              "      <td>0.140494</td>\n",
              "      <td>0.219236</td>\n",
              "      <td>-0.750284</td>\n",
              "      <td>-0.998469</td>\n",
              "      <td>0.884652</td>\n",
              "      <td>-0.404759</td>\n",
              "      <td>0.862840</td>\n",
              "      <td>...</td>\n",
              "      <td>0.134648</td>\n",
              "      <td>0.240507</td>\n",
              "      <td>-0.152532</td>\n",
              "      <td>0.664727</td>\n",
              "      <td>-0.079935</td>\n",
              "      <td>-0.783824</td>\n",
              "      <td>-3.474571</td>\n",
              "      <td>-1.324015</td>\n",
              "      <td>43.59</td>\n",
              "      <td>0</td>\n",
              "    </tr>\n",
              "  </tbody>\n",
              "</table>\n",
              "<p>5 rows × 31 columns</p>\n",
              "</div>"
            ],
            "text/plain": [
              "            Time        V1        V2        V3        V4        V5        V6  \\\n",
              "245231  152657.0 -1.253285 -0.144553  0.827034 -1.068843  1.125701 -0.217599   \n",
              "180068  124362.0  0.088873  0.982903 -0.332166 -0.637170  0.939958 -0.501748   \n",
              "223153  143266.0 -0.089616  0.431559  0.955739 -0.657907  0.472085 -0.051037   \n",
              "203641  134901.0  1.543755 -1.785569  0.171220 -0.427366 -1.611070  0.728810   \n",
              "96034    65578.0 -3.448126  2.687171  0.140494  0.219236 -0.750284 -0.998469   \n",
              "\n",
              "              V7        V8        V9  ...       V21       V22       V23  \\\n",
              "245231  0.773114 -0.019735  0.790356  ...  0.263198  1.193921 -0.048873   \n",
              "180068  0.853777  0.056575 -0.310902  ... -0.277434 -0.679373  0.101874   \n",
              "223153  0.529771 -0.248989  0.724258  ... -0.145463 -0.162437  0.209309   \n",
              "203641 -1.403413  0.453045  2.499307  ...  0.284167  0.746918  0.068279   \n",
              "96034   0.884652 -0.404759  0.862840  ...  0.134648  0.240507 -0.152532   \n",
              "\n",
              "             V24       V25       V26       V27       V28  Amount  Class  \n",
              "245231  0.554438  0.813305 -0.135395  0.049103  0.090436   33.80      0  \n",
              "180068  0.600309 -0.484252  0.092501  0.222123  0.074667    1.78      0  \n",
              "223153  0.583241 -0.603173 -0.771057 -0.330035 -0.195751   12.99      0  \n",
              "203641  0.789708 -0.574000  0.680535 -0.021054 -0.011014  199.04      0  \n",
              "96034   0.664727 -0.079935 -0.783824 -3.474571 -1.324015   43.59      0  \n",
              "\n",
              "[5 rows x 31 columns]"
            ]
          },
          "execution_count": 15,
          "metadata": {},
          "output_type": "execute_result"
        }
      ],
      "source": [
        "df.head()"
      ]
    },
    {
      "cell_type": "code",
      "execution_count": null,
      "id": "587070ae",
      "metadata": {
        "id": "587070ae",
        "outputId": "1e25a95c-202e-49a5-8fd4-dfe3c39383de"
      },
      "outputs": [
        {
          "name": "stdout",
          "output_type": "stream",
          "text": [
            "<class 'pandas.core.frame.DataFrame'>\n",
            "Int64Index: 984 entries, 245231 to 281674\n",
            "Data columns (total 31 columns):\n",
            " #   Column  Non-Null Count  Dtype  \n",
            "---  ------  --------------  -----  \n",
            " 0   Time    984 non-null    float64\n",
            " 1   V1      984 non-null    float64\n",
            " 2   V2      984 non-null    float64\n",
            " 3   V3      984 non-null    float64\n",
            " 4   V4      984 non-null    float64\n",
            " 5   V5      984 non-null    float64\n",
            " 6   V6      984 non-null    float64\n",
            " 7   V7      984 non-null    float64\n",
            " 8   V8      984 non-null    float64\n",
            " 9   V9      984 non-null    float64\n",
            " 10  V10     984 non-null    float64\n",
            " 11  V11     984 non-null    float64\n",
            " 12  V12     984 non-null    float64\n",
            " 13  V13     984 non-null    float64\n",
            " 14  V14     984 non-null    float64\n",
            " 15  V15     984 non-null    float64\n",
            " 16  V16     984 non-null    float64\n",
            " 17  V17     984 non-null    float64\n",
            " 18  V18     984 non-null    float64\n",
            " 19  V19     984 non-null    float64\n",
            " 20  V20     984 non-null    float64\n",
            " 21  V21     984 non-null    float64\n",
            " 22  V22     984 non-null    float64\n",
            " 23  V23     984 non-null    float64\n",
            " 24  V24     984 non-null    float64\n",
            " 25  V25     984 non-null    float64\n",
            " 26  V26     984 non-null    float64\n",
            " 27  V27     984 non-null    float64\n",
            " 28  V28     984 non-null    float64\n",
            " 29  Amount  984 non-null    float64\n",
            " 30  Class   984 non-null    int64  \n",
            "dtypes: float64(30), int64(1)\n",
            "memory usage: 246.0 KB\n"
          ]
        }
      ],
      "source": [
        "df.info()"
      ]
    },
    {
      "cell_type": "code",
      "execution_count": null,
      "id": "847c3d8e",
      "metadata": {
        "id": "847c3d8e",
        "outputId": "3e2048cc-cba8-4731-d232-d7bbec4c6f9b"
      },
      "outputs": [
        {
          "data": {
            "text/plain": [
              "0    492\n",
              "1    492\n",
              "Name: Class, dtype: int64"
            ]
          },
          "execution_count": 17,
          "metadata": {},
          "output_type": "execute_result"
        }
      ],
      "source": [
        "df['Class'].value_counts()"
      ]
    },
    {
      "cell_type": "code",
      "execution_count": null,
      "id": "aeff8027",
      "metadata": {
        "id": "aeff8027",
        "outputId": "98114113-0067-4720-99ea-39c3a804245c"
      },
      "outputs": [
        {
          "data": {
            "text/html": [
              "<div>\n",
              "<style scoped>\n",
              "    .dataframe tbody tr th:only-of-type {\n",
              "        vertical-align: middle;\n",
              "    }\n",
              "\n",
              "    .dataframe tbody tr th {\n",
              "        vertical-align: top;\n",
              "    }\n",
              "\n",
              "    .dataframe thead th {\n",
              "        text-align: right;\n",
              "    }\n",
              "</style>\n",
              "<table border=\"1\" class=\"dataframe\">\n",
              "  <thead>\n",
              "    <tr style=\"text-align: right;\">\n",
              "      <th></th>\n",
              "      <th>Time</th>\n",
              "      <th>V1</th>\n",
              "      <th>V2</th>\n",
              "      <th>V3</th>\n",
              "      <th>V4</th>\n",
              "      <th>V5</th>\n",
              "      <th>V6</th>\n",
              "      <th>V7</th>\n",
              "      <th>V8</th>\n",
              "      <th>V9</th>\n",
              "      <th>...</th>\n",
              "      <th>V20</th>\n",
              "      <th>V21</th>\n",
              "      <th>V22</th>\n",
              "      <th>V23</th>\n",
              "      <th>V24</th>\n",
              "      <th>V25</th>\n",
              "      <th>V26</th>\n",
              "      <th>V27</th>\n",
              "      <th>V28</th>\n",
              "      <th>Amount</th>\n",
              "    </tr>\n",
              "    <tr>\n",
              "      <th>Class</th>\n",
              "      <th></th>\n",
              "      <th></th>\n",
              "      <th></th>\n",
              "      <th></th>\n",
              "      <th></th>\n",
              "      <th></th>\n",
              "      <th></th>\n",
              "      <th></th>\n",
              "      <th></th>\n",
              "      <th></th>\n",
              "      <th></th>\n",
              "      <th></th>\n",
              "      <th></th>\n",
              "      <th></th>\n",
              "      <th></th>\n",
              "      <th></th>\n",
              "      <th></th>\n",
              "      <th></th>\n",
              "      <th></th>\n",
              "      <th></th>\n",
              "      <th></th>\n",
              "    </tr>\n",
              "  </thead>\n",
              "  <tbody>\n",
              "    <tr>\n",
              "      <th>0</th>\n",
              "      <td>99728.800813</td>\n",
              "      <td>-0.116988</td>\n",
              "      <td>0.019525</td>\n",
              "      <td>-0.125540</td>\n",
              "      <td>-0.117710</td>\n",
              "      <td>-0.056698</td>\n",
              "      <td>0.056117</td>\n",
              "      <td>0.180032</td>\n",
              "      <td>0.029960</td>\n",
              "      <td>0.112015</td>\n",
              "      <td>...</td>\n",
              "      <td>-0.021599</td>\n",
              "      <td>-0.037390</td>\n",
              "      <td>-0.027096</td>\n",
              "      <td>-0.014087</td>\n",
              "      <td>0.054989</td>\n",
              "      <td>0.006021</td>\n",
              "      <td>-0.006769</td>\n",
              "      <td>0.017446</td>\n",
              "      <td>0.009778</td>\n",
              "      <td>103.310508</td>\n",
              "    </tr>\n",
              "    <tr>\n",
              "      <th>1</th>\n",
              "      <td>80746.806911</td>\n",
              "      <td>-4.771948</td>\n",
              "      <td>3.623778</td>\n",
              "      <td>-7.033281</td>\n",
              "      <td>4.542029</td>\n",
              "      <td>-3.151225</td>\n",
              "      <td>-1.397737</td>\n",
              "      <td>-5.568731</td>\n",
              "      <td>0.570636</td>\n",
              "      <td>-2.581123</td>\n",
              "      <td>...</td>\n",
              "      <td>0.372319</td>\n",
              "      <td>0.713588</td>\n",
              "      <td>0.014049</td>\n",
              "      <td>-0.040308</td>\n",
              "      <td>-0.105130</td>\n",
              "      <td>0.041449</td>\n",
              "      <td>0.051648</td>\n",
              "      <td>0.170575</td>\n",
              "      <td>0.075667</td>\n",
              "      <td>122.211321</td>\n",
              "    </tr>\n",
              "  </tbody>\n",
              "</table>\n",
              "<p>2 rows × 30 columns</p>\n",
              "</div>"
            ],
            "text/plain": [
              "               Time        V1        V2        V3        V4        V5  \\\n",
              "Class                                                                   \n",
              "0      99728.800813 -0.116988  0.019525 -0.125540 -0.117710 -0.056698   \n",
              "1      80746.806911 -4.771948  3.623778 -7.033281  4.542029 -3.151225   \n",
              "\n",
              "             V6        V7        V8        V9  ...       V20       V21  \\\n",
              "Class                                          ...                       \n",
              "0      0.056117  0.180032  0.029960  0.112015  ... -0.021599 -0.037390   \n",
              "1     -1.397737 -5.568731  0.570636 -2.581123  ...  0.372319  0.713588   \n",
              "\n",
              "            V22       V23       V24       V25       V26       V27       V28  \\\n",
              "Class                                                                         \n",
              "0     -0.027096 -0.014087  0.054989  0.006021 -0.006769  0.017446  0.009778   \n",
              "1      0.014049 -0.040308 -0.105130  0.041449  0.051648  0.170575  0.075667   \n",
              "\n",
              "           Amount  \n",
              "Class              \n",
              "0      103.310508  \n",
              "1      122.211321  \n",
              "\n",
              "[2 rows x 30 columns]"
            ]
          },
          "execution_count": 18,
          "metadata": {},
          "output_type": "execute_result"
        }
      ],
      "source": [
        "df.groupby('Class').mean()"
      ]
    },
    {
      "cell_type": "markdown",
      "id": "3a88926a",
      "metadata": {
        "id": "3a88926a"
      },
      "source": [
        "### Spliting the data into features and Target"
      ]
    },
    {
      "cell_type": "code",
      "execution_count": null,
      "id": "5472df32",
      "metadata": {
        "id": "5472df32"
      },
      "outputs": [],
      "source": [
        "X = df.drop('Class', axis = 1)\n",
        "Y = df['Class']"
      ]
    },
    {
      "cell_type": "code",
      "execution_count": null,
      "id": "741d676f",
      "metadata": {
        "id": "741d676f",
        "outputId": "d5dbb8e0-13b2-42c6-ae81-157b08f35ef6"
      },
      "outputs": [
        {
          "name": "stdout",
          "output_type": "stream",
          "text": [
            "            Time        V1        V2        V3        V4        V5        V6  \\\n",
            "245231  152657.0 -1.253285 -0.144553  0.827034 -1.068843  1.125701 -0.217599   \n",
            "180068  124362.0  0.088873  0.982903 -0.332166 -0.637170  0.939958 -0.501748   \n",
            "223153  143266.0 -0.089616  0.431559  0.955739 -0.657907  0.472085 -0.051037   \n",
            "203641  134901.0  1.543755 -1.785569  0.171220 -0.427366 -1.611070  0.728810   \n",
            "96034    65578.0 -3.448126  2.687171  0.140494  0.219236 -0.750284 -0.998469   \n",
            "...          ...       ...       ...       ...       ...       ...       ...   \n",
            "279863  169142.0 -1.927883  1.125653 -4.518331  1.749293 -1.566487 -2.010494   \n",
            "280143  169347.0  1.378559  1.289381 -5.004247  1.411850  0.442581 -1.326536   \n",
            "280149  169351.0 -0.676143  1.126366 -2.213700  0.468308 -1.120541 -0.003346   \n",
            "281144  169966.0 -3.113832  0.585864 -5.399730  1.817092 -0.840618 -2.943548   \n",
            "281674  170348.0  1.991976  0.158476 -2.583441  0.408670  1.151147 -0.096695   \n",
            "\n",
            "              V7        V8        V9  ...       V20       V21       V22  \\\n",
            "245231  0.773114 -0.019735  0.790356  ... -0.320656  0.263198  1.193921   \n",
            "180068  0.853777  0.056575 -0.310902  ...  0.014058 -0.277434 -0.679373   \n",
            "223153  0.529771 -0.248989  0.724258  ... -0.099170 -0.145463 -0.162437   \n",
            "203641 -1.403413  0.453045  2.499307  ...  0.195846  0.284167  0.746918   \n",
            "96034   0.884652 -0.404759  0.862840  ... -0.414439  0.134648  0.240507   \n",
            "...          ...       ...       ...  ...       ...       ...       ...   \n",
            "279863 -0.882850  0.697211 -2.064945  ...  1.252967  0.778584 -0.319189   \n",
            "280143 -1.413170  0.248525 -1.127396  ...  0.226138  0.370612  0.028234   \n",
            "280149 -2.234739  1.210158 -0.652250  ...  0.247968  0.751826  0.834108   \n",
            "281144 -2.208002  1.058733 -1.632333  ...  0.306271  0.583276 -0.269209   \n",
            "281674  0.223050 -0.068384  0.577829  ... -0.017652 -0.164350 -0.295135   \n",
            "\n",
            "             V23       V24       V25       V26       V27       V28  Amount  \n",
            "245231 -0.048873  0.554438  0.813305 -0.135395  0.049103  0.090436   33.80  \n",
            "180068  0.101874  0.600309 -0.484252  0.092501  0.222123  0.074667    1.78  \n",
            "223153  0.209309  0.583241 -0.603173 -0.771057 -0.330035 -0.195751   12.99  \n",
            "203641  0.068279  0.789708 -0.574000  0.680535 -0.021054 -0.011014  199.04  \n",
            "96034  -0.152532  0.664727 -0.079935 -0.783824 -3.474571 -1.324015   43.59  \n",
            "...          ...       ...       ...       ...       ...       ...     ...  \n",
            "279863  0.639419 -0.294885  0.537503  0.788395  0.292680  0.147968  390.00  \n",
            "280143 -0.145640 -0.081049  0.521875  0.739467  0.389152  0.186637    0.76  \n",
            "280149  0.190944  0.032070 -0.739695  0.471111  0.385107  0.194361   77.89  \n",
            "281144 -0.456108 -0.183659 -0.328168  0.606116  0.884876 -0.253700  245.00  \n",
            "281674 -0.072173 -0.450261  0.313267 -0.289617  0.002988 -0.015309   42.53  \n",
            "\n",
            "[984 rows x 30 columns]\n"
          ]
        }
      ],
      "source": [
        "print(X)"
      ]
    },
    {
      "cell_type": "markdown",
      "id": "6373c7d2",
      "metadata": {
        "id": "6373c7d2"
      },
      "source": [
        "### Split the data into Train and Test Data"
      ]
    },
    {
      "cell_type": "code",
      "execution_count": null,
      "id": "9de8b643",
      "metadata": {
        "id": "9de8b643"
      },
      "outputs": [],
      "source": [
        "X_train, X_test, Y_train, Y_test = train_test_split(X, Y, test_size=0.2, stratify = Y, random_state = 2)"
      ]
    },
    {
      "cell_type": "code",
      "execution_count": null,
      "id": "d0637371",
      "metadata": {
        "id": "d0637371",
        "outputId": "1cf08d48-1833-47ef-e9ec-938f61f80f8c"
      },
      "outputs": [
        {
          "name": "stdout",
          "output_type": "stream",
          "text": [
            "(984, 30) (787, 30) (197, 30)\n"
          ]
        }
      ],
      "source": [
        "print(X.shape, X_train.shape, X_test.shape)"
      ]
    },
    {
      "cell_type": "markdown",
      "id": "371f67fd",
      "metadata": {
        "id": "371f67fd"
      },
      "source": [
        "### Model Training\n",
        "#### With Logistic Regression"
      ]
    },
    {
      "cell_type": "code",
      "execution_count": null,
      "id": "6d937faa",
      "metadata": {
        "id": "6d937faa"
      },
      "outputs": [],
      "source": [
        "model = LogisticRegression()"
      ]
    },
    {
      "cell_type": "markdown",
      "id": "d3cf60cd",
      "metadata": {
        "id": "d3cf60cd"
      },
      "source": [
        "##### Train the LR model with Train data\n"
      ]
    },
    {
      "cell_type": "code",
      "execution_count": null,
      "id": "2fe639d5",
      "metadata": {
        "id": "2fe639d5",
        "outputId": "7d4d64ad-d110-459b-f88e-fcf4fed602e7"
      },
      "outputs": [
        {
          "data": {
            "text/plain": [
              "LogisticRegression()"
            ]
          },
          "execution_count": 24,
          "metadata": {},
          "output_type": "execute_result"
        }
      ],
      "source": [
        "model.fit(X_train, Y_train)"
      ]
    },
    {
      "cell_type": "markdown",
      "id": "55b30410",
      "metadata": {
        "id": "55b30410"
      },
      "source": [
        "### Model Evaluation\n",
        "\n",
        "#### Accuracy Score"
      ]
    },
    {
      "cell_type": "code",
      "execution_count": null,
      "id": "d8f17aef",
      "metadata": {
        "id": "d8f17aef"
      },
      "outputs": [],
      "source": [
        "# Accuracy on training data\n",
        "\n",
        "XTrain_predict = model.predict(X_train)\n",
        "training_data_accuracy = accuracy_score(XTrain_predict, Y_train)"
      ]
    },
    {
      "cell_type": "code",
      "execution_count": null,
      "id": "9bb130bc",
      "metadata": {
        "scrolled": true,
        "id": "9bb130bc",
        "outputId": "eb4f3545-4b97-4349-babd-078be2767a1c"
      },
      "outputs": [
        {
          "name": "stdout",
          "output_type": "stream",
          "text": [
            "Accuracy on Training Data: 0.9466327827191868\n"
          ]
        }
      ],
      "source": [
        "print('Accuracy on Training Data:', training_data_accuracy)"
      ]
    },
    {
      "cell_type": "code",
      "execution_count": null,
      "id": "97e56e66",
      "metadata": {
        "id": "97e56e66"
      },
      "outputs": [],
      "source": [
        "# Accuracy on Test data\n",
        "\n",
        "XTest_predict = model.predict(X_test)\n",
        "training_data_accuracy = accuracy_score(XTest_predict, Y_test)"
      ]
    },
    {
      "cell_type": "code",
      "execution_count": null,
      "id": "f8dffea7",
      "metadata": {
        "id": "f8dffea7",
        "outputId": "32433ad8-3f81-4e98-e24b-d90346ab4e20"
      },
      "outputs": [
        {
          "name": "stdout",
          "output_type": "stream",
          "text": [
            "Accuracy on Testing Data: 0.9390862944162437\n"
          ]
        }
      ],
      "source": [
        "print('Accuracy on Testing Data:', training_data_accuracy)"
      ]
    },
    {
      "cell_type": "markdown",
      "id": "1f5020a4",
      "metadata": {
        "id": "1f5020a4"
      },
      "source": [
        "#### USING SMOTE FOR BALANCING THE DATASET \n",
        "\n",
        "SMOTE stands for Synthetic Minority Over-sampling Technique. Unlike Random UnderSampling, SMOTE creates new synthetic points in order to have an equal balance of the classes. This is another alternative for solving the \"class imbalance problems\"."
      ]
    },
    {
      "cell_type": "code",
      "execution_count": null,
      "id": "179ace19",
      "metadata": {
        "id": "179ace19",
        "outputId": "f7b7572e-4248-41d2-af49-78231031f391"
      },
      "outputs": [
        {
          "data": {
            "text/plain": [
              "0    284315\n",
              "1       492\n",
              "Name: Class, dtype: int64"
            ]
          },
          "execution_count": 31,
          "metadata": {},
          "output_type": "execute_result"
        }
      ],
      "source": [
        "# spliting the dataset into two\n",
        "x1=credit_data.drop('Class',axis=1)\n",
        "y1=credit_data[\"Class\"]\n",
        "y1.value_counts()"
      ]
    },
    {
      "cell_type": "code",
      "execution_count": null,
      "id": "d9e9dc6a",
      "metadata": {
        "id": "d9e9dc6a",
        "outputId": "37d1f04f-d331-40e1-c7a1-85e3772f36fe"
      },
      "outputs": [
        {
          "data": {
            "text/html": [
              "<div>\n",
              "<style scoped>\n",
              "    .dataframe tbody tr th:only-of-type {\n",
              "        vertical-align: middle;\n",
              "    }\n",
              "\n",
              "    .dataframe tbody tr th {\n",
              "        vertical-align: top;\n",
              "    }\n",
              "\n",
              "    .dataframe thead th {\n",
              "        text-align: right;\n",
              "    }\n",
              "</style>\n",
              "<table border=\"1\" class=\"dataframe\">\n",
              "  <thead>\n",
              "    <tr style=\"text-align: right;\">\n",
              "      <th></th>\n",
              "      <th>Time</th>\n",
              "      <th>V1</th>\n",
              "      <th>V2</th>\n",
              "      <th>V3</th>\n",
              "      <th>V4</th>\n",
              "      <th>V5</th>\n",
              "      <th>V6</th>\n",
              "      <th>V7</th>\n",
              "      <th>V8</th>\n",
              "      <th>V9</th>\n",
              "      <th>...</th>\n",
              "      <th>V20</th>\n",
              "      <th>V21</th>\n",
              "      <th>V22</th>\n",
              "      <th>V23</th>\n",
              "      <th>V24</th>\n",
              "      <th>V25</th>\n",
              "      <th>V26</th>\n",
              "      <th>V27</th>\n",
              "      <th>V28</th>\n",
              "      <th>Amount</th>\n",
              "    </tr>\n",
              "    <tr>\n",
              "      <th>Class</th>\n",
              "      <th></th>\n",
              "      <th></th>\n",
              "      <th></th>\n",
              "      <th></th>\n",
              "      <th></th>\n",
              "      <th></th>\n",
              "      <th></th>\n",
              "      <th></th>\n",
              "      <th></th>\n",
              "      <th></th>\n",
              "      <th></th>\n",
              "      <th></th>\n",
              "      <th></th>\n",
              "      <th></th>\n",
              "      <th></th>\n",
              "      <th></th>\n",
              "      <th></th>\n",
              "      <th></th>\n",
              "      <th></th>\n",
              "      <th></th>\n",
              "      <th></th>\n",
              "    </tr>\n",
              "  </thead>\n",
              "  <tbody>\n",
              "    <tr>\n",
              "      <th>0</th>\n",
              "      <td>94838.202258</td>\n",
              "      <td>0.008258</td>\n",
              "      <td>-0.006271</td>\n",
              "      <td>0.012171</td>\n",
              "      <td>-0.007860</td>\n",
              "      <td>0.005453</td>\n",
              "      <td>0.002419</td>\n",
              "      <td>0.009637</td>\n",
              "      <td>-0.000987</td>\n",
              "      <td>0.004467</td>\n",
              "      <td>...</td>\n",
              "      <td>-0.000644</td>\n",
              "      <td>-0.001235</td>\n",
              "      <td>-0.000024</td>\n",
              "      <td>0.000070</td>\n",
              "      <td>0.000182</td>\n",
              "      <td>-0.000072</td>\n",
              "      <td>-0.000089</td>\n",
              "      <td>-0.000295</td>\n",
              "      <td>-0.000131</td>\n",
              "      <td>88.291022</td>\n",
              "    </tr>\n",
              "    <tr>\n",
              "      <th>1</th>\n",
              "      <td>80746.806911</td>\n",
              "      <td>-4.771948</td>\n",
              "      <td>3.623778</td>\n",
              "      <td>-7.033281</td>\n",
              "      <td>4.542029</td>\n",
              "      <td>-3.151225</td>\n",
              "      <td>-1.397737</td>\n",
              "      <td>-5.568731</td>\n",
              "      <td>0.570636</td>\n",
              "      <td>-2.581123</td>\n",
              "      <td>...</td>\n",
              "      <td>0.372319</td>\n",
              "      <td>0.713588</td>\n",
              "      <td>0.014049</td>\n",
              "      <td>-0.040308</td>\n",
              "      <td>-0.105130</td>\n",
              "      <td>0.041449</td>\n",
              "      <td>0.051648</td>\n",
              "      <td>0.170575</td>\n",
              "      <td>0.075667</td>\n",
              "      <td>122.211321</td>\n",
              "    </tr>\n",
              "  </tbody>\n",
              "</table>\n",
              "<p>2 rows × 30 columns</p>\n",
              "</div>"
            ],
            "text/plain": [
              "               Time        V1        V2        V3        V4        V5  \\\n",
              "Class                                                                   \n",
              "0      94838.202258  0.008258 -0.006271  0.012171 -0.007860  0.005453   \n",
              "1      80746.806911 -4.771948  3.623778 -7.033281  4.542029 -3.151225   \n",
              "\n",
              "             V6        V7        V8        V9  ...       V20       V21  \\\n",
              "Class                                          ...                       \n",
              "0      0.002419  0.009637 -0.000987  0.004467  ... -0.000644 -0.001235   \n",
              "1     -1.397737 -5.568731  0.570636 -2.581123  ...  0.372319  0.713588   \n",
              "\n",
              "            V22       V23       V24       V25       V26       V27       V28  \\\n",
              "Class                                                                         \n",
              "0     -0.000024  0.000070  0.000182 -0.000072 -0.000089 -0.000295 -0.000131   \n",
              "1      0.014049 -0.040308 -0.105130  0.041449  0.051648  0.170575  0.075667   \n",
              "\n",
              "           Amount  \n",
              "Class              \n",
              "0       88.291022  \n",
              "1      122.211321  \n",
              "\n",
              "[2 rows x 30 columns]"
            ]
          },
          "execution_count": 32,
          "metadata": {},
          "output_type": "execute_result"
        }
      ],
      "source": [
        "credit_data.groupby('Class').mean()"
      ]
    },
    {
      "cell_type": "code",
      "execution_count": null,
      "id": "5ebdde9a",
      "metadata": {
        "id": "5ebdde9a"
      },
      "outputs": [],
      "source": [
        "x_train, x_test, y_train, y_test = train_test_split( x1, y1, test_size=0.2, random_state=4,stratify=y1)"
      ]
    },
    {
      "cell_type": "code",
      "execution_count": null,
      "id": "eb79dbe9",
      "metadata": {
        "id": "eb79dbe9"
      },
      "outputs": [],
      "source": [
        "from imblearn.over_sampling import SMOTE"
      ]
    },
    {
      "cell_type": "code",
      "execution_count": null,
      "id": "1b086a98",
      "metadata": {
        "id": "1b086a98"
      },
      "outputs": [],
      "source": [
        "smote= SMOTE(sampling_strategy= 'not majority')\n",
        "xsmote,ysmote=smote.fit_resample(x_train,y_train)"
      ]
    },
    {
      "cell_type": "code",
      "execution_count": null,
      "id": "ab82f517",
      "metadata": {
        "id": "ab82f517",
        "outputId": "c9d0b064-73a0-4659-c38c-05b080a3c122"
      },
      "outputs": [
        {
          "data": {
            "text/plain": [
              "0    227451\n",
              "1    227451\n",
              "Name: Class, dtype: int64"
            ]
          },
          "execution_count": 41,
          "metadata": {},
          "output_type": "execute_result"
        }
      ],
      "source": [
        "#checking if its balanced\n",
        "ysmote.value_counts()"
      ]
    },
    {
      "cell_type": "code",
      "execution_count": null,
      "id": "a4bb8e38",
      "metadata": {
        "id": "a4bb8e38",
        "outputId": "8984c33b-7f9e-44e6-b070-b47f343a51d0"
      },
      "outputs": [
        {
          "name": "stderr",
          "output_type": "stream",
          "text": [
            "C:\\Users\\User13\\anaconda3\\lib\\site-packages\\seaborn\\_decorators.py:36: FutureWarning: Pass the following variable as a keyword arg: x. From version 0.12, the only valid positional argument will be `data`, and passing other arguments without an explicit keyword will result in an error or misinterpretation.\n",
            "  warnings.warn(\n"
          ]
        },
        {
          "data": {
            "text/plain": [
              "<AxesSubplot:xlabel='Class', ylabel='count'>"
            ]
          },
          "execution_count": 42,
          "metadata": {},
          "output_type": "execute_result"
        },
        {
          "data": {
            "image/png": "[encoded data removed]",
            "text/plain": [
              "<Figure size 640x480 with 1 Axes>"
            ]
          },
          "metadata": {},
          "output_type": "display_data"
        }
      ],
      "source": [
        "#Visualisation to accurately see balance\n",
        "sns.countplot(ysmote)"
      ]
    },
    {
      "cell_type": "code",
      "execution_count": null,
      "id": "334debbb",
      "metadata": {
        "id": "334debbb"
      },
      "outputs": [],
      "source": [
        "x_train, x_test, y_train, y_test = train_test_split(xsmote, ysmote, test_size=0.2, random_state=4,stratify=ysmote)"
      ]
    },
    {
      "cell_type": "code",
      "execution_count": null,
      "id": "8bff7809",
      "metadata": {
        "id": "8bff7809",
        "outputId": "78101771-18b1-4f28-a7dd-49068757daae"
      },
      "outputs": [
        {
          "name": "stderr",
          "output_type": "stream",
          "text": [
            "C:\\Users\\User13\\anaconda3\\lib\\site-packages\\sklearn\\linear_model\\_logistic.py:814: ConvergenceWarning: lbfgs failed to converge (status=1):\n",
            "STOP: TOTAL NO. of ITERATIONS REACHED LIMIT.\n",
            "\n",
            "Increase the number of iterations (max_iter) or scale the data as shown in:\n",
            "    https://scikit-learn.org/stable/modules/preprocessing.html\n",
            "Please also refer to the documentation for alternative solver options:\n",
            "    https://scikit-learn.org/stable/modules/linear_model.html#logistic-regression\n",
            "  n_iter_i = _check_optimize_result(\n"
          ]
        },
        {
          "data": {
            "text/plain": [
              "LogisticRegression()"
            ]
          },
          "execution_count": 45,
          "metadata": {},
          "output_type": "execute_result"
        }
      ],
      "source": [
        "LR = LogisticRegression()\n",
        "LR.fit(x_train, y_train)"
      ]
    },
    {
      "cell_type": "code",
      "execution_count": null,
      "id": "95d9af90",
      "metadata": {
        "id": "95d9af90"
      },
      "outputs": [],
      "source": [
        "Y_predict = LR.predict(x_test)"
      ]
    },
    {
      "cell_type": "code",
      "execution_count": null,
      "id": "7cfdf408",
      "metadata": {
        "id": "7cfdf408",
        "outputId": "123434ac-c1ee-4723-dea2-5483c593f2ae"
      },
      "outputs": [
        {
          "data": {
            "text/plain": [
              "array([1, 1, 0, ..., 1, 1, 1], dtype=int64)"
            ]
          },
          "execution_count": 48,
          "metadata": {},
          "output_type": "execute_result"
        }
      ],
      "source": [
        "Y_predict"
      ]
    },
    {
      "cell_type": "code",
      "execution_count": null,
      "id": "21642b4c",
      "metadata": {
        "id": "21642b4c"
      },
      "outputs": [],
      "source": [
        "test_data_accuracy=accuracy_score(Y_predict,y_test)"
      ]
    },
    {
      "cell_type": "code",
      "execution_count": null,
      "id": "daa1682b",
      "metadata": {
        "id": "daa1682b",
        "outputId": "1269efe5-2981-43cb-87a4-fe9e525be39d"
      },
      "outputs": [
        {
          "name": "stdout",
          "output_type": "stream",
          "text": [
            "Accuracy of test data: 0.9751596487178642\n"
          ]
        }
      ],
      "source": [
        "print('Accuracy of test data:',test_data_accuracy)"
      ]
    },
    {
      "cell_type": "code",
      "execution_count": null,
      "id": "bdb879dc",
      "metadata": {
        "id": "bdb879dc",
        "outputId": "8b6eb44f-210d-4dbb-b3f1-5b1eb9e2a6f2"
      },
      "outputs": [
        {
          "name": "stdout",
          "output_type": "stream",
          "text": [
            "Classification report:\n",
            "               precision    recall  f1-score   support\n",
            "\n",
            "           0       0.97      0.98      0.98     45491\n",
            "           1       0.98      0.97      0.97     45490\n",
            "\n",
            "    accuracy                           0.98     90981\n",
            "   macro avg       0.98      0.98      0.98     90981\n",
            "weighted avg       0.98      0.98      0.98     90981\n",
            "\n",
            "f1 score: 0.9749423452190882\n"
          ]
        }
      ],
      "source": [
        "from sklearn.metrics import  classification_report\n",
        "print('Classification report:\\n',classification_report(y_test,Y_predict))\n",
        "print('f1 score:',f1_score(y_test,Y_predict))"
      ]
    },
    {
      "cell_type": "code",
      "execution_count": null,
      "id": "7819ad74",
      "metadata": {
        "id": "7819ad74"
      },
      "outputs": [],
      "source": []
    }
  ],
  "metadata": {
    "kernelspec": {
      "display_name": "Python 3 (ipykernel)",
      "language": "python",
      "name": "python3"
    },
    "language_info": {
      "codemirror_mode": {
        "name": "ipython",
        "version": 3
      },
      "file_extension": ".py",
      "mimetype": "text/x-python",
      "name": "python",
      "nbconvert_exporter": "python",
      "pygments_lexer": "ipython3",
      "version": "3.9.13"
    },
    "colab": {
      "provenance": []
    }
  },
  "nbformat": 4,
  "nbformat_minor": 5
}